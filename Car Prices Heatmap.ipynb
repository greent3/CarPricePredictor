{
 "cells": [
  {
   "cell_type": "markdown",
   "id": "5ca3129b",
   "metadata": {},
   "source": [
    "# Getting Familiar with the data"
   ]
  },
  {
   "cell_type": "markdown",
   "id": "eeed2545",
   "metadata": {},
   "source": [
    "Import Libraries"
   ]
  },
  {
   "cell_type": "code",
   "execution_count": 1,
   "id": "9461da1d",
   "metadata": {},
   "outputs": [],
   "source": [
    "import numpy as np\n",
    "from matplotlib import pyplot as plt\n",
    "import seaborn as sns\n",
    "import pandas as pd\n",
    "\n",
    "from sklearn.preprocessing import OrdinalEncoder, LabelEncoder, OneHotEncoder\n",
    "from sklearn.model_selection import train_test_split\n",
    "from sklearn.metrics import mean_squared_log_error\n",
    "from sklearn.ensemble import RandomForestRegressor"
   ]
  },
  {
   "cell_type": "markdown",
   "id": "f8ffbbda",
   "metadata": {},
   "source": [
    "Import & view data"
   ]
  },
  {
   "cell_type": "code",
   "execution_count": 2,
   "id": "36ab5c4c",
   "metadata": {},
   "outputs": [
    {
     "data": {
      "text/html": [
       "<div>\n",
       "<style scoped>\n",
       "    .dataframe tbody tr th:only-of-type {\n",
       "        vertical-align: middle;\n",
       "    }\n",
       "\n",
       "    .dataframe tbody tr th {\n",
       "        vertical-align: top;\n",
       "    }\n",
       "\n",
       "    .dataframe thead th {\n",
       "        text-align: right;\n",
       "    }\n",
       "</style>\n",
       "<table border=\"1\" class=\"dataframe\">\n",
       "  <thead>\n",
       "    <tr style=\"text-align: right;\">\n",
       "      <th></th>\n",
       "      <th>ID</th>\n",
       "      <th>Price</th>\n",
       "      <th>Levy</th>\n",
       "      <th>Manufacturer</th>\n",
       "      <th>Model</th>\n",
       "      <th>Prod. year</th>\n",
       "      <th>Category</th>\n",
       "      <th>Leather interior</th>\n",
       "      <th>Fuel type</th>\n",
       "      <th>Engine volume</th>\n",
       "      <th>Mileage</th>\n",
       "      <th>Cylinders</th>\n",
       "      <th>Gear box type</th>\n",
       "      <th>Drive wheels</th>\n",
       "      <th>Doors</th>\n",
       "      <th>Wheel</th>\n",
       "      <th>Color</th>\n",
       "      <th>Airbags</th>\n",
       "    </tr>\n",
       "  </thead>\n",
       "  <tbody>\n",
       "    <tr>\n",
       "      <th>0</th>\n",
       "      <td>45654403</td>\n",
       "      <td>13328</td>\n",
       "      <td>1399</td>\n",
       "      <td>LEXUS</td>\n",
       "      <td>RX 450</td>\n",
       "      <td>2010</td>\n",
       "      <td>Jeep</td>\n",
       "      <td>Yes</td>\n",
       "      <td>Hybrid</td>\n",
       "      <td>3.5</td>\n",
       "      <td>186005 km</td>\n",
       "      <td>6.0</td>\n",
       "      <td>Automatic</td>\n",
       "      <td>4x4</td>\n",
       "      <td>04-May</td>\n",
       "      <td>Left wheel</td>\n",
       "      <td>Silver</td>\n",
       "      <td>12</td>\n",
       "    </tr>\n",
       "    <tr>\n",
       "      <th>1</th>\n",
       "      <td>44731507</td>\n",
       "      <td>16621</td>\n",
       "      <td>1018</td>\n",
       "      <td>CHEVROLET</td>\n",
       "      <td>Equinox</td>\n",
       "      <td>2011</td>\n",
       "      <td>Jeep</td>\n",
       "      <td>No</td>\n",
       "      <td>Petrol</td>\n",
       "      <td>3</td>\n",
       "      <td>192000 km</td>\n",
       "      <td>6.0</td>\n",
       "      <td>Tiptronic</td>\n",
       "      <td>4x4</td>\n",
       "      <td>04-May</td>\n",
       "      <td>Left wheel</td>\n",
       "      <td>Black</td>\n",
       "      <td>8</td>\n",
       "    </tr>\n",
       "    <tr>\n",
       "      <th>2</th>\n",
       "      <td>45774419</td>\n",
       "      <td>8467</td>\n",
       "      <td>-</td>\n",
       "      <td>HONDA</td>\n",
       "      <td>FIT</td>\n",
       "      <td>2006</td>\n",
       "      <td>Hatchback</td>\n",
       "      <td>No</td>\n",
       "      <td>Petrol</td>\n",
       "      <td>1.3</td>\n",
       "      <td>200000 km</td>\n",
       "      <td>4.0</td>\n",
       "      <td>Variator</td>\n",
       "      <td>Front</td>\n",
       "      <td>04-May</td>\n",
       "      <td>Right-hand drive</td>\n",
       "      <td>Black</td>\n",
       "      <td>2</td>\n",
       "    </tr>\n",
       "    <tr>\n",
       "      <th>3</th>\n",
       "      <td>45769185</td>\n",
       "      <td>3607</td>\n",
       "      <td>862</td>\n",
       "      <td>FORD</td>\n",
       "      <td>Escape</td>\n",
       "      <td>2011</td>\n",
       "      <td>Jeep</td>\n",
       "      <td>Yes</td>\n",
       "      <td>Hybrid</td>\n",
       "      <td>2.5</td>\n",
       "      <td>168966 km</td>\n",
       "      <td>4.0</td>\n",
       "      <td>Automatic</td>\n",
       "      <td>4x4</td>\n",
       "      <td>04-May</td>\n",
       "      <td>Left wheel</td>\n",
       "      <td>White</td>\n",
       "      <td>0</td>\n",
       "    </tr>\n",
       "    <tr>\n",
       "      <th>4</th>\n",
       "      <td>45809263</td>\n",
       "      <td>11726</td>\n",
       "      <td>446</td>\n",
       "      <td>HONDA</td>\n",
       "      <td>FIT</td>\n",
       "      <td>2014</td>\n",
       "      <td>Hatchback</td>\n",
       "      <td>Yes</td>\n",
       "      <td>Petrol</td>\n",
       "      <td>1.3</td>\n",
       "      <td>91901 km</td>\n",
       "      <td>4.0</td>\n",
       "      <td>Automatic</td>\n",
       "      <td>Front</td>\n",
       "      <td>04-May</td>\n",
       "      <td>Left wheel</td>\n",
       "      <td>Silver</td>\n",
       "      <td>4</td>\n",
       "    </tr>\n",
       "  </tbody>\n",
       "</table>\n",
       "</div>"
      ],
      "text/plain": [
       "         ID  Price  Levy Manufacturer    Model  Prod. year   Category  \\\n",
       "0  45654403  13328  1399        LEXUS   RX 450        2010       Jeep   \n",
       "1  44731507  16621  1018    CHEVROLET  Equinox        2011       Jeep   \n",
       "2  45774419   8467     -        HONDA      FIT        2006  Hatchback   \n",
       "3  45769185   3607   862         FORD   Escape        2011       Jeep   \n",
       "4  45809263  11726   446        HONDA      FIT        2014  Hatchback   \n",
       "\n",
       "  Leather interior Fuel type Engine volume    Mileage  Cylinders  \\\n",
       "0              Yes    Hybrid           3.5  186005 km        6.0   \n",
       "1               No    Petrol             3  192000 km        6.0   \n",
       "2               No    Petrol           1.3  200000 km        4.0   \n",
       "3              Yes    Hybrid           2.5  168966 km        4.0   \n",
       "4              Yes    Petrol           1.3   91901 km        4.0   \n",
       "\n",
       "  Gear box type Drive wheels   Doors             Wheel   Color  Airbags  \n",
       "0     Automatic          4x4  04-May        Left wheel  Silver       12  \n",
       "1     Tiptronic          4x4  04-May        Left wheel   Black        8  \n",
       "2      Variator        Front  04-May  Right-hand drive   Black        2  \n",
       "3     Automatic          4x4  04-May        Left wheel   White        0  \n",
       "4     Automatic        Front  04-May        Left wheel  Silver        4  "
      ]
     },
     "execution_count": 2,
     "metadata": {},
     "output_type": "execute_result"
    }
   ],
   "source": [
    "cs = pd.read_csv('./train.csv') #cs == car_spreadsheet\n",
    "cs.head()"
   ]
  },
  {
   "cell_type": "markdown",
   "id": "ff57ce7a",
   "metadata": {},
   "source": [
    "See what data types we're working with"
   ]
  },
  {
   "cell_type": "code",
   "execution_count": 3,
   "id": "d169cba4",
   "metadata": {},
   "outputs": [
    {
     "name": "stdout",
     "output_type": "stream",
     "text": [
      "ID                    int64\n",
      "Price                 int64\n",
      "Levy                 object\n",
      "Manufacturer         object\n",
      "Model                object\n",
      "Prod. year            int64\n",
      "Category             object\n",
      "Leather interior     object\n",
      "Fuel type            object\n",
      "Engine volume        object\n",
      "Mileage              object\n",
      "Cylinders           float64\n",
      "Gear box type        object\n",
      "Drive wheels         object\n",
      "Doors                object\n",
      "Wheel                object\n",
      "Color                object\n",
      "Airbags               int64\n",
      "dtype: object\n"
     ]
    }
   ],
   "source": [
    "print(cs.dtypes)"
   ]
  },
  {
   "cell_type": "markdown",
   "id": "b60f8812",
   "metadata": {},
   "source": [
    "## Cleaning the data"
   ]
  },
  {
   "cell_type": "markdown",
   "id": "86580f10",
   "metadata": {},
   "source": [
    "Find price outliers using Z score"
   ]
  },
  {
   "cell_type": "code",
   "execution_count": 4,
   "id": "6b95fac0",
   "metadata": {},
   "outputs": [],
   "source": [
    "def detect_outliers(data):\n",
    "    outlier_values=[]\n",
    "    threshold=3\n",
    "    mean=np.mean(data)\n",
    "    std=np.std(data)\n",
    "    \n",
    "    for i in range(len(data)):\n",
    "        z_score = (data[i] - mean)/std\n",
    "        if np.abs(z_score) > threshold:\n",
    "            outlier_values.append(data[i])\n",
    "    return outlier_values"
   ]
  },
  {
   "cell_type": "code",
   "execution_count": 5,
   "id": "6fa34649",
   "metadata": {},
   "outputs": [
    {
     "name": "stdout",
     "output_type": "stream",
     "text": [
      "Our price outliers are [627220, 872946, 26307500]\n"
     ]
    }
   ],
   "source": [
    "outliers=detect_outliers(cs.Price)\n",
    "print(f\"Our price outliers are {outliers}\")"
   ]
  },
  {
   "cell_type": "markdown",
   "id": "78b367fc",
   "metadata": {},
   "source": [
    "Remove the outliers from our dataset"
   ]
  },
  {
   "cell_type": "code",
   "execution_count": 6,
   "id": "490a9f80",
   "metadata": {},
   "outputs": [],
   "source": [
    "for i in outliers:\n",
    "    cs.drop(index=cs[cs['Price'] == i].index)"
   ]
  },
  {
   "cell_type": "markdown",
   "id": "9deb1ba5",
   "metadata": {},
   "source": [
    "Drop unnecessary columns and reformat object columns needed for our heatmap into usable int/float datatypes"
   ]
  },
  {
   "cell_type": "code",
   "execution_count": 7,
   "id": "c3323a86",
   "metadata": {},
   "outputs": [],
   "source": [
    "def drop_columns(df, levy_median=781):    \n",
    "    df.drop(['Manufacturer', 'Model', 'Doors'], axis=1, inplace=True)\n",
    "    df['Leather interior'] = df['Leather interior'].str.contains('Yes').astype(int)\n",
    "    df['Mileage'] = df['Mileage'].str.replace('km', '').astype(int)\n",
    "    df['Levy'] = df['Levy'].replace('-', 781).astype(int)\n",
    "    df['Engine volume'] = df['Engine volume'].str.replace(' Turbo', '').astype(float)\n",
    "    return df"
   ]
  },
  {
   "cell_type": "code",
   "execution_count": 8,
   "id": "d167bf4d",
   "metadata": {},
   "outputs": [],
   "source": [
    "train_prepared = drop_columns(cs)\n",
    "\n",
    "test_sheet = pd.read_csv('./test.csv')\n",
    "test_prepared = drop_columns(test_sheet)"
   ]
  },
  {
   "cell_type": "markdown",
   "id": "e5962337",
   "metadata": {},
   "source": [
    "Ensure we have the correct variable types for our heatmap"
   ]
  },
  {
   "cell_type": "code",
   "execution_count": 9,
   "id": "0290611e",
   "metadata": {},
   "outputs": [
    {
     "name": "stdout",
     "output_type": "stream",
     "text": [
      "ID                    int64\n",
      "Price                 int64\n",
      "Levy                  int32\n",
      "Prod. year            int64\n",
      "Category             object\n",
      "Leather interior      int32\n",
      "Fuel type            object\n",
      "Engine volume       float64\n",
      "Mileage               int32\n",
      "Cylinders           float64\n",
      "Gear box type        object\n",
      "Drive wheels         object\n",
      "Wheel                object\n",
      "Color                object\n",
      "Airbags               int64\n",
      "dtype: object\n"
     ]
    }
   ],
   "source": [
    "print(cs.dtypes)"
   ]
  },
  {
   "cell_type": "code",
   "execution_count": 10,
   "id": "cca2929b",
   "metadata": {},
   "outputs": [
    {
     "data": {
      "image/png": "[encoded data removed]",
      "text/plain": [
       "<Figure size 432x288 with 2 Axes>"
      ]
     },
     "metadata": {
      "needs_background": "light"
     },
     "output_type": "display_data"
    }
   ],
   "source": [
    "heatmap = sns.heatmap(cs.corr(), cmap='viridis', vmax=1, vmin=-1, annot=True, linewidth=1, fmt='.2f')"
   ]
  },
  {
   "cell_type": "markdown",
   "id": "25b6b7cb",
   "metadata": {},
   "source": [
    "### * Strong correlation between **Engine** **volume** and **# of cylinders**\n",
    "### * **Levy** also correlated with both **Engine** **volume** and **# of cylinders**\n",
    "### * No correlation between **Price** and any other variable"
   ]
  },
  {
   "cell_type": "markdown",
   "id": "3deffeee",
   "metadata": {},
   "source": [
    "# Encode data for model"
   ]
  },
  {
   "cell_type": "markdown",
   "id": "eeae1ea6",
   "metadata": {},
   "source": [
    "Our model only accepts numerical values, so we'll need to convert our objects into numbers using label encoding"
   ]
  },
  {
   "cell_type": "markdown",
   "id": "e5e28c73",
   "metadata": {},
   "source": [
    "First, let's separate our already-numerical data from data that we plan to encode"
   ]
  },
  {
   "cell_type": "code",
   "execution_count": 11,
   "id": "75e38562",
   "metadata": {},
   "outputs": [],
   "source": [
    "train_prepared_numeric = train_prepared.select_dtypes(np.number)  "
   ]
  },
  {
   "cell_type": "markdown",
   "id": "211c022c",
   "metadata": {},
   "source": [
    "Next, let's transform our columns with object datatypes into number arrays"
   ]
  },
  {
   "cell_type": "code",
   "execution_count": 12,
   "id": "bf4ff094",
   "metadata": {},
   "outputs": [],
   "source": [
    "train_prepared_categorical = train_prepared.select_dtypes(object)\n",
    "encoder = OrdinalEncoder()\n",
    "train_cat_encoded = encoder.fit_transform(train_prepared_categorical)"
   ]
  },
  {
   "cell_type": "markdown",
   "id": "fb9c90bd",
   "metadata": {},
   "source": [
    "And bring those arrays back together into a data frame"
   ]
  },
  {
   "cell_type": "code",
   "execution_count": 13,
   "id": "c1cf2aef",
   "metadata": {},
   "outputs": [
    {
     "data": {
      "text/html": [
       "<div>\n",
       "<style scoped>\n",
       "    .dataframe tbody tr th:only-of-type {\n",
       "        vertical-align: middle;\n",
       "    }\n",
       "\n",
       "    .dataframe tbody tr th {\n",
       "        vertical-align: top;\n",
       "    }\n",
       "\n",
       "    .dataframe thead th {\n",
       "        text-align: right;\n",
       "    }\n",
       "</style>\n",
       "<table border=\"1\" class=\"dataframe\">\n",
       "  <thead>\n",
       "    <tr style=\"text-align: right;\">\n",
       "      <th></th>\n",
       "      <th>Category</th>\n",
       "      <th>Fuel type</th>\n",
       "      <th>Gear box type</th>\n",
       "      <th>Drive wheels</th>\n",
       "      <th>Wheel</th>\n",
       "      <th>Color</th>\n",
       "    </tr>\n",
       "  </thead>\n",
       "  <tbody>\n",
       "    <tr>\n",
       "      <th>0</th>\n",
       "      <td>4.0</td>\n",
       "      <td>2.0</td>\n",
       "      <td>0.0</td>\n",
       "      <td>0.0</td>\n",
       "      <td>0.0</td>\n",
       "      <td>12.0</td>\n",
       "    </tr>\n",
       "    <tr>\n",
       "      <th>1</th>\n",
       "      <td>4.0</td>\n",
       "      <td>5.0</td>\n",
       "      <td>2.0</td>\n",
       "      <td>0.0</td>\n",
       "      <td>0.0</td>\n",
       "      <td>1.0</td>\n",
       "    </tr>\n",
       "    <tr>\n",
       "      <th>2</th>\n",
       "      <td>3.0</td>\n",
       "      <td>5.0</td>\n",
       "      <td>3.0</td>\n",
       "      <td>1.0</td>\n",
       "      <td>1.0</td>\n",
       "      <td>1.0</td>\n",
       "    </tr>\n",
       "    <tr>\n",
       "      <th>3</th>\n",
       "      <td>4.0</td>\n",
       "      <td>2.0</td>\n",
       "      <td>0.0</td>\n",
       "      <td>0.0</td>\n",
       "      <td>0.0</td>\n",
       "      <td>14.0</td>\n",
       "    </tr>\n",
       "    <tr>\n",
       "      <th>4</th>\n",
       "      <td>3.0</td>\n",
       "      <td>5.0</td>\n",
       "      <td>0.0</td>\n",
       "      <td>1.0</td>\n",
       "      <td>0.0</td>\n",
       "      <td>12.0</td>\n",
       "    </tr>\n",
       "  </tbody>\n",
       "</table>\n",
       "</div>"
      ],
      "text/plain": [
       "   Category  Fuel type  Gear box type  Drive wheels  Wheel  Color\n",
       "0       4.0        2.0            0.0           0.0    0.0   12.0\n",
       "1       4.0        5.0            2.0           0.0    0.0    1.0\n",
       "2       3.0        5.0            3.0           1.0    1.0    1.0\n",
       "3       4.0        2.0            0.0           0.0    0.0   14.0\n",
       "4       3.0        5.0            0.0           1.0    0.0   12.0"
      ]
     },
     "execution_count": 13,
     "metadata": {},
     "output_type": "execute_result"
    }
   ],
   "source": [
    "cat_df=pd.DataFrame(train_cat_encoded, columns=train_prepared_categorical.columns)\n",
    "cat_df.head()"
   ]
  },
  {
   "cell_type": "markdown",
   "id": "28b5657a",
   "metadata": {},
   "source": [
    "Let's join our old numerical table and new numerical table together into one table"
   ]
  },
  {
   "cell_type": "code",
   "execution_count": 14,
   "id": "7f832b57",
   "metadata": {},
   "outputs": [],
   "source": [
    "concat=pd.concat([train_prepared_numeric,cat_df],axis=1)"
   ]
  },
  {
   "cell_type": "code",
   "execution_count": 15,
   "id": "e7d1cc63",
   "metadata": {},
   "outputs": [],
   "source": [
    "X = concat.drop(['Price'], axis=1).copy()\n",
    "y = concat['Price'].values"
   ]
  },
  {
   "cell_type": "markdown",
   "id": "e72042eb",
   "metadata": {},
   "source": [
    "And finally split our data into different sets (70% for training and 30% for testing)"
   ]
  },
  {
   "cell_type": "code",
   "execution_count": 16,
   "id": "4f038940",
   "metadata": {},
   "outputs": [],
   "source": [
    "X_train, X_val, y_train, y_val = train_test_split(X, y, test_size=0.3, random_state=3)"
   ]
  },
  {
   "cell_type": "markdown",
   "id": "d8d89efe",
   "metadata": {},
   "source": [
    "## Random Forest Model"
   ]
  },
  {
   "cell_type": "markdown",
   "id": "49e01d3d",
   "metadata": {},
   "source": [
    "We have multiple variables (Mileage, cylinders, etc.) affecting the \"predicted price\" of our vehicles, so we can't use a linear regression model"
   ]
  },
  {
   "cell_type": "markdown",
   "id": "7c44574b",
   "metadata": {},
   "source": [
    "And a single decision tree would rely too much on the training data"
   ]
  },
  {
   "cell_type": "markdown",
   "id": "4409fad4",
   "metadata": {},
   "source": [
    "So let's use a RF Regression model that will randomly sample from our data and form a forest of decision trees that will determine our results"
   ]
  },
  {
   "cell_type": "code",
   "execution_count": 17,
   "id": "06ef5413",
   "metadata": {},
   "outputs": [],
   "source": [
    "model = RandomForestRegressor(random_state=3)"
   ]
  },
  {
   "cell_type": "code",
   "execution_count": 18,
   "id": "5f3938b8",
   "metadata": {},
   "outputs": [
    {
     "name": "stdout",
     "output_type": "stream",
     "text": [
      "Train RMSLE: 0.7538510792251315\n",
      "Val RMSLE: 1.0505255538648994\n"
     ]
    }
   ],
   "source": [
    "model.fit(X_train, y_train)\n",
    "print(f'Train RMSLE: {np.sqrt(mean_squared_log_error(model.predict(X_train), y_train))}')\n",
    "print(f'Val RMSLE: {np.sqrt(mean_squared_log_error(model.predict(X_val), y_val))}')"
   ]
  },
  {
   "cell_type": "markdown",
   "id": "b77175f3",
   "metadata": {},
   "source": [
    "Below, we're just encoding our data for our test set in the same way we did for our training set."
   ]
  },
  {
   "cell_type": "code",
   "execution_count": 19,
   "id": "3abc643f",
   "metadata": {},
   "outputs": [],
   "source": [
    "test_prep_num = test_prepared.select_dtypes(np.number)\n",
    "test_cat = test_prepared.select_dtypes(object)\n",
    "test_enc_cat = encoder.transform(test_cat)\n",
    "test_cat_df=pd.DataFrame(test_enc_cat, columns=test_cat.columns)\n",
    "concat_test = pd.concat([test_prep_num, test_cat_df], axis=1)\n",
    "X_test = concat_test.drop(['Price'], axis=1).copy()"
   ]
  },
  {
   "cell_type": "markdown",
   "id": "9fb6a6c6",
   "metadata": {},
   "source": [
    "Let's see our results!"
   ]
  },
  {
   "cell_type": "code",
   "execution_count": 20,
   "id": "d51e2fb0",
   "metadata": {},
   "outputs": [
    {
     "data": {
      "text/html": [
       "<div>\n",
       "<style scoped>\n",
       "    .dataframe tbody tr th:only-of-type {\n",
       "        vertical-align: middle;\n",
       "    }\n",
       "\n",
       "    .dataframe tbody tr th {\n",
       "        vertical-align: top;\n",
       "    }\n",
       "\n",
       "    .dataframe thead th {\n",
       "        text-align: right;\n",
       "    }\n",
       "</style>\n",
       "<table border=\"1\" class=\"dataframe\">\n",
       "  <thead>\n",
       "    <tr style=\"text-align: right;\">\n",
       "      <th></th>\n",
       "      <th>Price</th>\n",
       "    </tr>\n",
       "  </thead>\n",
       "  <tbody>\n",
       "    <tr>\n",
       "      <th>0</th>\n",
       "      <td>21488.43</td>\n",
       "    </tr>\n",
       "    <tr>\n",
       "      <th>1</th>\n",
       "      <td>18204.62</td>\n",
       "    </tr>\n",
       "    <tr>\n",
       "      <th>2</th>\n",
       "      <td>7879.62</td>\n",
       "    </tr>\n",
       "    <tr>\n",
       "      <th>3</th>\n",
       "      <td>13121.42</td>\n",
       "    </tr>\n",
       "    <tr>\n",
       "      <th>4</th>\n",
       "      <td>2871.45</td>\n",
       "    </tr>\n",
       "  </tbody>\n",
       "</table>\n",
       "</div>"
      ],
      "text/plain": [
       "      Price\n",
       "0  21488.43\n",
       "1  18204.62\n",
       "2   7879.62\n",
       "3  13121.42\n",
       "4   2871.45"
      ]
     },
     "execution_count": 20,
     "metadata": {},
     "output_type": "execute_result"
    }
   ],
   "source": [
    "sample_results = pd.read_csv('./sample_results.csv')\n",
    "sample_results['Price'] = model.predict(X_test)\n",
    "sample_results.head()"
   ]
  },
  {
   "cell_type": "markdown",
   "id": "b799acb7",
   "metadata": {},
   "source": [
    "This dataset was provided by Kaggle! "
   ]
  }
 ],
 "metadata": {
  "kernelspec": {
   "display_name": "Python 3 (ipykernel)",
   "language": "python",
   "name": "python3"
  },
  "language_info": {
   "codemirror_mode": {
    "name": "ipython",
    "version": 3
   },
   "file_extension": ".py",
   "mimetype": "text/x-python",
   "name": "python",
   "nbconvert_exporter": "python",
   "pygments_lexer": "ipython3",
   "version": "3.8.4rc1"
  }
 },
 "nbformat": 4,
 "nbformat_minor": 5
}
